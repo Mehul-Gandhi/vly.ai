{
  "cells": [
    {
      "cell_type": "code",
      "execution_count": 13,
      "metadata": {
        "colab": {
          "base_uri": "https://localhost:8080/"
        },
        "id": "0X7uISC-2OQ0",
        "outputId": "c9ffa06a-d39c-4abc-efdf-79b7e3e5a517"
      },
      "outputs": [
        {
          "name": "stdout",
          "output_type": "stream",
          "text": [
            "Requirement already satisfied: pypdf in /usr/local/lib/python3.10/dist-packages (4.0.1)\n"
          ]
        }
      ],
      "source": [
        "# install openai, langchain, sentense transfoers and other dependencies\n",
        "!pip install openai langchain sentence_transformers -q\n",
        "!pip install unstructured -q\n",
        "\n",
        "# install the environment dependencies\n",
        "!pip install pydantic==1.10.8\n",
        "!pip install typing-inspect==0.8.0 typing_extensions==4.5.\n",
        "!pip install chromadb==0.3.26\n",
        "!pip install pypdf"
      ]
    },
    {
      "cell_type": "markdown",
      "metadata": {
        "id": "_kA_rgMkuMjf"
      },
      "source": []
    },
    {
      "cell_type": "code",
      "execution_count": 14,
      "metadata": {
        "colab": {
          "base_uri": "https://localhost:8080/"
        },
        "id": "S2U_INMv2T9N",
        "outputId": "a5db6530-7e2f-40c5-95da-9e95ad499bd5"
      },
      "outputs": [
        {
          "data": {
            "text/plain": [
              "[Document(page_content=\"2/18/24, 3:02 AM Introduction\\nhttps://reflex.dev/docs/getting-started/introduction/ 1/6Getting-started/Introduction\\nIntroduction\\nRe\\x00ex is an open-source framework for quickly building\\nbeautiful, interactive web applications in pure Python.\\nGoals\\nPure Python\\nUse Python for everything. Don't worry about learning a new\\nlanguage.\\nEasy to Learn\\nBuild and share your \\x00rst app in minutes. No web\\ndevelopment experience required.\\nFull Flexibility\\nRemain as \\x00exible as traditional web frameworks. Re\\x00ex is\\neasy to use, yet allows for advanced use cases.\\nBuild anything from small data science apps to large, multi-\\npage websites. This entire site was built and deployed with\\nRe\\x00ex!\\nBatteries Included\\nNo need to reach for a bunch of different tools. Re\\x00ex handles\\nthe user interface, server-side logic, and deployment of your\\napp.\\nAn example: Make it countarn\\nmponents\\nI Reference\\n erence\\n erence\\n s\\n ble TutorialGoa\\nAn e\\nThe \\nImpo\\nStat\\nEven\\nUser\\nAdd\\nNextDocs Blog Gallery Resources Search/\", metadata={'source': 'Introduction.pdf', 'page': 0}),\n",
              " Document(page_content='2/18/24, 3:02 AM Introduction\\nhttps://reflex.dev/docs/getting-started/introduction/ 2/6Here, we go over a simple counter app that lets the user count\\nup or down.\\nDecrement0Increment\\nHere is the full code for this example:arn\\nmponents\\nI Reference\\n erence\\n simport reflex as rx\\nclass State(rx.State):\\n    count : int = 0\\n    def increment (self):\\n        self .count += 1\\n    def decrement (self):\\n        self .count -= 1\\ndef index():\\n    return rx.hstack(\\n        rx .button(\\n            \"Decrement\" ,\\n            color_scheme =\"ruby\",\\n            on_click =State.decrement ,\\n        ),\\n        rx .heading(State.count, font_size =\"2em\"),\\n        rx .button(\\n            \"Increment\" ,\\n            color_scheme =\"grass\",\\n            on_click =State.increment ,\\n        ),\\n        spacing =\"4\",\\n    )\\napp = rx.App()\\nGoa\\nAn e\\nThe \\nImpo\\nStat\\nEven\\nUser\\nAdd\\nNextDocs Blog Gallery Resources Search/', metadata={'source': 'Introduction.pdf', 'page': 1}),\n",
              " Document(page_content=\"2/18/24, 3:02 AM Introduction\\nhttps://reflex.dev/docs/getting-started/introduction/ 3/6The Structure of a Reflex App\\nLet's break this example down.\\nImport\\nWe begin by importing the reflex package (aliased to rx).\\nWe reference Re\\x00ex objects as rx.* by convention.\\nState\\nThe state de\\x00nes all the variables (called vars) in an app that\\ncan change, as well as the functions (called event_handlers)\\nthat change them.\\nHere our state has a single var, count, which holds the current\\nvalue of the counter. We initialize it to 0.\\nEvent Handlersarn\\nmponents\\nI Reference\\n erence\\n sapp.add_page (index)\\nimport reflex as rx\\nclass State(rx.State):\\n    count : int = 0\\ndef increment (self):\\n    self .count += 1\\nGoa\\nAn e\\nThe \\nImpo\\nStat\\nEven\\nUser\\nAdd\\nNextDocs Blog Gallery Resources Search/\", metadata={'source': 'Introduction.pdf', 'page': 2}),\n",
              " Document(page_content='2/18/24, 3:02 AM Introduction\\nhttps://reflex.dev/docs/getting-started/introduction/ 4/6Within the state, we de\\x00ne functions, called event handlers,\\nthat change the state vars.\\nEvent handlers are the only way that we can modify the state in\\nRe\\x00ex. They can be called in response to user actions, such as\\nclicking a button or typing in a text box. These actions are called\\nevents.\\nOur counter app has two event handlers, increment and\\ndecrement.\\nUser Interface (UI)\\nThis function de\\x00nes the app\\'s user interface.\\nWe use different components such as rx.hstack, rx.button,\\nand rx.heading to build the frontend. Components can bearn\\nmponents\\nI Reference\\n erence\\n sdef decrement (self):\\n    self .count -= 1\\ndef index():\\n    return rx.hstack(\\n        rx .button(\\n            \"Decrement\" ,\\n            color_scheme =\"ruby\",\\n            on_click =State.decrement ,\\n        ),\\n        rx .heading(State.count, font_size =\"2em\"),\\n        rx .button(\\n            \"Increment\" ,\\n            color_scheme =\"grass\",\\n            on_click =State.increment ,\\n        ),\\n        spacing =\"4\",\\n    )\\nGoa\\nAn e\\nThe \\nImpo\\nStat\\nEven\\nUser\\nAdd\\nNextDocs Blog Gallery Resources Search/', metadata={'source': 'Introduction.pdf', 'page': 3}),\n",
              " Document(page_content='2/18/24, 3:02 AM Introduction\\nhttps://reflex.dev/docs/getting-started/introduction/ 5/6nested to create complex layouts, and can be styled using the\\nfull power of CSS.\\nRe\\x00ex comes with 50+ built-in componentsto help you get\\nstarted. We are actively adding more components. Also, it\\'s easy\\nto wrap your own React components.\\nComponents can reference the app\\'s state vars. The\\nrx.heading component displays the current value of the\\ncounter by referencing State.count. All components that\\nreference state will reactively update whenever the state\\nchanges.\\nComponents interact with the state by binding events triggers\\nto event handlers. For example, on_click is an event that is\\ntriggered when a user clicks a component.\\nThe \\x00rst button in our app binds its on_click event to the\\nState.decrement event handler. Similarly the second button\\nbinds on_click to State.increment.\\nIn other words, the sequence goes like this:\\nUser clicks \"increment\" on the UI.\\non_click event is triggered.\\nEvent handler State.increment is called.\\nState.count is incremented.\\nUI updates to re\\x00ect the new value of State.count.arn\\nmponents\\nI Reference\\n erence\\n srx.heading(State.count, font_size =\"2em\"),\\nrx.button(\\n    \"Decrement\" ,\\n    color_scheme =\"ruby\",\\n    on_click =State.decrement ,\\n),\\nGoa\\nAn e\\nThe \\nImpo\\nStat\\nEven\\nUser\\nAdd\\nNextDocs Blog Gallery Resources Search/', metadata={'source': 'Introduction.pdf', 'page': 4}),\n",
              " Document(page_content=\"2/18/24, 3:02 AM Introduction\\nhttps://reflex.dev/docs/getting-started/introduction/ 6/6Add pages\\nNext we de\\x00ne our app and add the counter component to the\\nbase route.\\nNext Steps\\n🎉 And that's it!\\nWe've created a simple, yet fully interactive web app in pure\\nPython.\\nBy continuing with our documentation, you will learn how to\\nbuilding awesome apps with Re\\x00ex.\\nFor a glimpse of the possibilities, check out these resources:\\nFor a more real-world example, check out the tutorial.\\nInstallation →\\nDid you \\x00nd this useful? No Yes\\nHomeGalleryChangelogIntroductionHosting\\narn\\nmponents\\nI Reference\\n erence\\n sapp = rx.App()\\napp.add_page (index)\\nGoa\\nAn e\\nThe \\nImpo\\nStat\\nEven\\nUser\\nAdd\\nNextDocs Blog Gallery Resources Search/\", metadata={'source': 'Introduction.pdf', 'page': 5})]"
            ]
          },
          "execution_count": 14,
          "metadata": {},
          "output_type": "execute_result"
        }
      ],
      "source": [
        "# import langchain dir loader from document loaders\n",
        "\n",
        "from langchain_community.document_loaders import PyPDFLoader\n",
        "\n",
        "loader = PyPDFLoader(\"Introduction.pdf\")\n",
        "pages = loader.load_and_split()\n",
        "pages"
      ]
    },
    {
      "cell_type": "code",
      "execution_count": 16,
      "metadata": {
        "colab": {
          "base_uri": "https://localhost:8080/"
        },
        "id": "ZQg5iHn14we3",
        "outputId": "694894a5-34cf-48be-ed0f-36715f96349e"
      },
      "outputs": [
        {
          "data": {
            "text/plain": [
              "8"
            ]
          },
          "execution_count": 16,
          "metadata": {},
          "output_type": "execute_result"
        }
      ],
      "source": [
        "from langchain.text_splitter import RecursiveCharacterTextSplitter\n",
        "\n",
        "# split the docs into chunks using recursive character splitter\n",
        "def split_docs(documents,chunk_size=1000,chunk_overlap=20):\n",
        "  text_splitter = RecursiveCharacterTextSplitter(chunk_size=chunk_size, chunk_overlap=chunk_overlap)\n",
        "  docs = text_splitter.split_documents(documents)\n",
        "  return docs\n",
        "\n",
        "# store the splitte documnets in docs variable\n",
        "docs = split_docs(pages)\n",
        "len(docs)"
      ]
    },
    {
      "cell_type": "code",
      "execution_count": 18,
      "metadata": {
        "colab": {
          "base_uri": "https://localhost:8080/"
        },
        "id": "_p7jGFbY6V8C",
        "outputId": "af8afe8b-6cd7-4249-c4ec-f9bcafaf0bad"
      },
      "outputs": [
        {
          "data": {
            "text/plain": [
              "Document(page_content=\"2/18/24, 3:02 AM Introduction\\nhttps://reflex.dev/docs/getting-started/introduction/ 3/6The Structure of a Reflex App\\nLet's break this example down.\\nImport\\nWe begin by importing the reflex package (aliased to rx).\\nWe reference Re\\x00ex objects as rx.* by convention.\\nState\\nThe state de\\x00nes all the variables (called vars) in an app that\\ncan change, as well as the functions (called event_handlers)\\nthat change them.\\nHere our state has a single var, count, which holds the current\\nvalue of the counter. We initialize it to 0.\\nEvent Handlersarn\\nmponents\\nI Reference\\n erence\\n sapp.add_page (index)\\nimport reflex as rx\\nclass State(rx.State):\\n    count : int = 0\\ndef increment (self):\\n    self .count += 1\\nGoa\\nAn e\\nThe \\nImpo\\nStat\\nEven\\nUser\\nAdd\\nNextDocs Blog Gallery Resources Search/\", metadata={'source': 'Introduction.pdf', 'page': 2})"
            ]
          },
          "execution_count": 18,
          "metadata": {},
          "output_type": "execute_result"
        }
      ],
      "source": [
        "from langchain.embeddings import SentenceTransformerEmbeddings\n",
        "embeddings = SentenceTransformerEmbeddings(model_name=\"all-MiniLM-L6-v2\")\n",
        "\n",
        "# using chromadb as a vectorstore and storing the docs in it\n",
        "from langchain.vectorstores import Chroma\n",
        "db = Chroma.from_documents(docs, embeddings)\n",
        "\n",
        "# Doing similarity search  using query\n",
        "query = \"What is reflex\"\n",
        "matching_docs = db.similarity_search(query)\n",
        "\n",
        "matching_docs[0]"
      ]
    },
    {
      "cell_type": "code",
      "execution_count": null,
      "metadata": {
        "id": "3AB5SuKV6dqE"
      },
      "outputs": [],
      "source": []
    }
  ],
  "metadata": {
    "colab": {
      "provenance": []
    },
    "kernelspec": {
      "display_name": "Python 3",
      "name": "python3"
    },
    "language_info": {
      "name": "python"
    }
  },
  "nbformat": 4,
  "nbformat_minor": 0
}
